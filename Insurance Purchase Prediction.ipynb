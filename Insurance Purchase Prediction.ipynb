{
 "cells": [
  {
   "cell_type": "markdown",
   "metadata": {},
   "source": [
    "# Insurance Purchase Prediction"
   ]
  },
  {
   "cell_type": "markdown",
   "metadata": {},
   "source": [
    "Import libraries"
   ]
  },
  {
   "cell_type": "code",
   "execution_count": 222,
   "metadata": {},
   "outputs": [],
   "source": [
    "import numpy as np\n",
    "import pandas as pd\n",
    "import seaborn as sns\n",
    "import matplotlib.pyplot as plt\n",
    "from sklearn.utils import resample\n",
    "from sklearn import preprocessing\n",
    "from sklearn.model_selection import train_test_split\n",
    "from sklearn.linear_model import LogisticRegression\n",
    "from sklearn import metrics\n",
    "import statsmodels.api as sm\n",
    "from sklearn.metrics import roc_auc_score\n",
    "from sklearn.metrics import roc_curve\n",
    "\n",
    "import warnings\n",
    "warnings.filterwarnings('ignore')"
   ]
  },
  {
   "cell_type": "markdown",
   "metadata": {},
   "source": [
    "# Import Data"
   ]
  },
  {
   "cell_type": "code",
   "execution_count": 223,
   "metadata": {},
   "outputs": [],
   "source": [
    "df = pd.read_csv('AncillaryScoring_insurance.csv', encoding='latin-1')"
   ]
  },
  {
   "cell_type": "code",
   "execution_count": 224,
   "metadata": {},
   "outputs": [
    {
     "data": {
      "text/html": [
       "<div>\n",
       "<style scoped>\n",
       "    .dataframe tbody tr th:only-of-type {\n",
       "        vertical-align: middle;\n",
       "    }\n",
       "\n",
       "    .dataframe tbody tr th {\n",
       "        vertical-align: top;\n",
       "    }\n",
       "\n",
       "    .dataframe thead th {\n",
       "        text-align: right;\n",
       "    }\n",
       "</style>\n",
       "<table border=\"1\" class=\"dataframe\">\n",
       "  <thead>\n",
       "    <tr style=\"text-align: right;\">\n",
       "      <th></th>\n",
       "      <th>PAXCOUNT</th>\n",
       "      <th>SALESCHANNEL</th>\n",
       "      <th>TRIPTYPEDESC</th>\n",
       "      <th>PURCHASELEAD</th>\n",
       "      <th>LENGTHOFSTAY</th>\n",
       "      <th>flight_hour</th>\n",
       "      <th>flight_day</th>\n",
       "      <th>ROUTE</th>\n",
       "      <th>geoNetwork_country</th>\n",
       "      <th>BAGGAGE_CATEGORY</th>\n",
       "      <th>SEAT_CATEGORY</th>\n",
       "      <th>FNB_CATEGORY</th>\n",
       "      <th>INS_FLAG</th>\n",
       "      <th>flightDuration_hour</th>\n",
       "    </tr>\n",
       "  </thead>\n",
       "  <tbody>\n",
       "    <tr>\n",
       "      <td>0</td>\n",
       "      <td>2</td>\n",
       "      <td>Internet</td>\n",
       "      <td>RoundTrip</td>\n",
       "      <td>262</td>\n",
       "      <td>19</td>\n",
       "      <td>7</td>\n",
       "      <td>Sat</td>\n",
       "      <td>AKLDEL</td>\n",
       "      <td>New Zealand</td>\n",
       "      <td>1</td>\n",
       "      <td>0</td>\n",
       "      <td>0</td>\n",
       "      <td>0</td>\n",
       "      <td>5.52</td>\n",
       "    </tr>\n",
       "    <tr>\n",
       "      <td>1</td>\n",
       "      <td>1</td>\n",
       "      <td>Internet</td>\n",
       "      <td>RoundTrip</td>\n",
       "      <td>112</td>\n",
       "      <td>20</td>\n",
       "      <td>3</td>\n",
       "      <td>Sat</td>\n",
       "      <td>AKLDEL</td>\n",
       "      <td>New Zealand</td>\n",
       "      <td>0</td>\n",
       "      <td>0</td>\n",
       "      <td>0</td>\n",
       "      <td>0</td>\n",
       "      <td>5.52</td>\n",
       "    </tr>\n",
       "    <tr>\n",
       "      <td>2</td>\n",
       "      <td>2</td>\n",
       "      <td>Internet</td>\n",
       "      <td>RoundTrip</td>\n",
       "      <td>243</td>\n",
       "      <td>22</td>\n",
       "      <td>17</td>\n",
       "      <td>Wed</td>\n",
       "      <td>AKLDEL</td>\n",
       "      <td>India</td>\n",
       "      <td>1</td>\n",
       "      <td>1</td>\n",
       "      <td>0</td>\n",
       "      <td>0</td>\n",
       "      <td>5.52</td>\n",
       "    </tr>\n",
       "    <tr>\n",
       "      <td>3</td>\n",
       "      <td>1</td>\n",
       "      <td>Internet</td>\n",
       "      <td>RoundTrip</td>\n",
       "      <td>96</td>\n",
       "      <td>31</td>\n",
       "      <td>4</td>\n",
       "      <td>Sat</td>\n",
       "      <td>AKLDEL</td>\n",
       "      <td>New Zealand</td>\n",
       "      <td>0</td>\n",
       "      <td>0</td>\n",
       "      <td>1</td>\n",
       "      <td>0</td>\n",
       "      <td>5.52</td>\n",
       "    </tr>\n",
       "    <tr>\n",
       "      <td>4</td>\n",
       "      <td>2</td>\n",
       "      <td>Internet</td>\n",
       "      <td>RoundTrip</td>\n",
       "      <td>68</td>\n",
       "      <td>22</td>\n",
       "      <td>15</td>\n",
       "      <td>Wed</td>\n",
       "      <td>AKLDEL</td>\n",
       "      <td>India</td>\n",
       "      <td>1</td>\n",
       "      <td>0</td>\n",
       "      <td>1</td>\n",
       "      <td>0</td>\n",
       "      <td>5.52</td>\n",
       "    </tr>\n",
       "  </tbody>\n",
       "</table>\n",
       "</div>"
      ],
      "text/plain": [
       "   PAXCOUNT SALESCHANNEL TRIPTYPEDESC  PURCHASELEAD  LENGTHOFSTAY  \\\n",
       "0         2     Internet    RoundTrip           262            19   \n",
       "1         1     Internet    RoundTrip           112            20   \n",
       "2         2     Internet    RoundTrip           243            22   \n",
       "3         1     Internet    RoundTrip            96            31   \n",
       "4         2     Internet    RoundTrip            68            22   \n",
       "\n",
       "   flight_hour flight_day   ROUTE geoNetwork_country  BAGGAGE_CATEGORY  \\\n",
       "0            7        Sat  AKLDEL        New Zealand                 1   \n",
       "1            3        Sat  AKLDEL        New Zealand                 0   \n",
       "2           17        Wed  AKLDEL              India                 1   \n",
       "3            4        Sat  AKLDEL        New Zealand                 0   \n",
       "4           15        Wed  AKLDEL              India                 1   \n",
       "\n",
       "   SEAT_CATEGORY  FNB_CATEGORY  INS_FLAG  flightDuration_hour  \n",
       "0              0             0         0                 5.52  \n",
       "1              0             0         0                 5.52  \n",
       "2              1             0         0                 5.52  \n",
       "3              0             1         0                 5.52  \n",
       "4              0             1         0                 5.52  "
      ]
     },
     "execution_count": 224,
     "metadata": {},
     "output_type": "execute_result"
    }
   ],
   "source": [
    "df.head()"
   ]
  },
  {
   "cell_type": "markdown",
   "metadata": {},
   "source": [
    "# Data Exploration"
   ]
  },
  {
   "cell_type": "markdown",
   "metadata": {},
   "source": [
    "Check and remove missing values"
   ]
  },
  {
   "cell_type": "code",
   "execution_count": 225,
   "metadata": {},
   "outputs": [],
   "source": [
    "df = df.dropna()"
   ]
  },
  {
   "cell_type": "markdown",
   "metadata": {},
   "source": [
    "Check data information"
   ]
  },
  {
   "cell_type": "code",
   "execution_count": 226,
   "metadata": {},
   "outputs": [
    {
     "name": "stdout",
     "output_type": "stream",
     "text": [
      "<class 'pandas.core.frame.DataFrame'>\n",
      "Int64Index: 50000 entries, 0 to 49999\n",
      "Data columns (total 14 columns):\n",
      "PAXCOUNT               50000 non-null int64\n",
      "SALESCHANNEL           50000 non-null object\n",
      "TRIPTYPEDESC           50000 non-null object\n",
      "PURCHASELEAD           50000 non-null int64\n",
      "LENGTHOFSTAY           50000 non-null int64\n",
      "flight_hour            50000 non-null int64\n",
      "flight_day             50000 non-null object\n",
      "ROUTE                  50000 non-null object\n",
      "geoNetwork_country     50000 non-null object\n",
      "BAGGAGE_CATEGORY       50000 non-null int64\n",
      "SEAT_CATEGORY          50000 non-null int64\n",
      "FNB_CATEGORY           50000 non-null int64\n",
      "INS_FLAG               50000 non-null int64\n",
      "flightDuration_hour    50000 non-null float64\n",
      "dtypes: float64(1), int64(8), object(5)\n",
      "memory usage: 5.7+ MB\n"
     ]
    }
   ],
   "source": [
    "df.info()"
   ]
  },
  {
   "cell_type": "markdown",
   "metadata": {},
   "source": [
    "Plot the target variable"
   ]
  },
  {
   "cell_type": "code",
   "execution_count": 227,
   "metadata": {},
   "outputs": [
    {
     "data": {
      "image/png": "[encoded data removed]",
      "text/plain": [
       "<Figure size 432x288 with 1 Axes>"
      ]
     },
     "metadata": {
      "needs_background": "light"
     },
     "output_type": "display_data"
    },
    {
     "data": {
      "text/plain": [
       "<Figure size 432x288 with 0 Axes>"
      ]
     },
     "metadata": {},
     "output_type": "display_data"
    }
   ],
   "source": [
    "sns.countplot(x='INS_FLAG', data = df, palette='hls')\n",
    "plt.show()\n",
    "plt.savefig('plot')"
   ]
  },
  {
   "cell_type": "markdown",
   "metadata": {},
   "source": [
    "# Feature Engineering"
   ]
  },
  {
   "cell_type": "markdown",
   "metadata": {},
   "source": [
    "Country and Route are fixed term effect so they will be dropped from our data"
   ]
  },
  {
   "cell_type": "code",
   "execution_count": 228,
   "metadata": {},
   "outputs": [],
   "source": [
    "df = df.drop('ROUTE', axis = 1)\n",
    "df = df.drop('geoNetwork_country', axis = 1)\n",
    "#df = df.drop('flight_day', axis = 1)                          "
   ]
  },
  {
   "cell_type": "markdown",
   "metadata": {},
   "source": [
    "Creating dummy variable"
   ]
  },
  {
   "cell_type": "code",
   "execution_count": 229,
   "metadata": {},
   "outputs": [],
   "source": [
    "category_var = ['SALESCHANNEL', 'TRIPTYPEDESC', 'flight_day']\n",
    "\n",
    "for var in category_var:\n",
    "    category_list='var'+'_'+var\n",
    "    category_list = pd.get_dummies(df[var], prefix=var)\n",
    "    df1=df.join(category_list)\n",
    "    df=df1"
   ]
  },
  {
   "cell_type": "code",
   "execution_count": 230,
   "metadata": {},
   "outputs": [],
   "source": [
    "data_var=df.columns.values.tolist()\n",
    "to_keep=[i for i in data_var if i not in category_var]"
   ]
  },
  {
   "cell_type": "code",
   "execution_count": 231,
   "metadata": {},
   "outputs": [
    {
     "data": {
      "text/plain": [
       "array(['PAXCOUNT', 'PURCHASELEAD', 'LENGTHOFSTAY', 'flight_hour',\n",
       "       'BAGGAGE_CATEGORY', 'SEAT_CATEGORY', 'FNB_CATEGORY', 'INS_FLAG',\n",
       "       'flightDuration_hour', 'SALESCHANNEL_Internet',\n",
       "       'SALESCHANNEL_Mobile', 'TRIPTYPEDESC_CircleTrip',\n",
       "       'TRIPTYPEDESC_OneWay', 'TRIPTYPEDESC_RoundTrip', 'flight_day_Fri',\n",
       "       'flight_day_Mon', 'flight_day_Sat', 'flight_day_Sun',\n",
       "       'flight_day_Thu', 'flight_day_Tue', 'flight_day_Wed'], dtype=object)"
      ]
     },
     "execution_count": 231,
     "metadata": {},
     "output_type": "execute_result"
    }
   ],
   "source": [
    "df_final=df[to_keep]\n",
    "df_final.columns.values"
   ]
  },
  {
   "cell_type": "code",
   "execution_count": 232,
   "metadata": {},
   "outputs": [
    {
     "name": "stdout",
     "output_type": "stream",
     "text": [
      "<class 'pandas.core.frame.DataFrame'>\n",
      "Int64Index: 50000 entries, 0 to 49999\n",
      "Data columns (total 21 columns):\n",
      "PAXCOUNT                   50000 non-null int64\n",
      "PURCHASELEAD               50000 non-null int64\n",
      "LENGTHOFSTAY               50000 non-null int64\n",
      "flight_hour                50000 non-null int64\n",
      "BAGGAGE_CATEGORY           50000 non-null int64\n",
      "SEAT_CATEGORY              50000 non-null int64\n",
      "FNB_CATEGORY               50000 non-null int64\n",
      "INS_FLAG                   50000 non-null int64\n",
      "flightDuration_hour        50000 non-null float64\n",
      "SALESCHANNEL_Internet      50000 non-null uint8\n",
      "SALESCHANNEL_Mobile        50000 non-null uint8\n",
      "TRIPTYPEDESC_CircleTrip    50000 non-null uint8\n",
      "TRIPTYPEDESC_OneWay        50000 non-null uint8\n",
      "TRIPTYPEDESC_RoundTrip     50000 non-null uint8\n",
      "flight_day_Fri             50000 non-null uint8\n",
      "flight_day_Mon             50000 non-null uint8\n",
      "flight_day_Sat             50000 non-null uint8\n",
      "flight_day_Sun             50000 non-null uint8\n",
      "flight_day_Thu             50000 non-null uint8\n",
      "flight_day_Tue             50000 non-null uint8\n",
      "flight_day_Wed             50000 non-null uint8\n",
      "dtypes: float64(1), int64(8), uint8(12)\n",
      "memory usage: 5.6 MB\n"
     ]
    }
   ],
   "source": [
    "df_final.info()"
   ]
  },
  {
   "cell_type": "markdown",
   "metadata": {},
   "source": [
    "Our Data is highly unbalanced, so we will resample by upsampling the minority class"
   ]
  },
  {
   "cell_type": "code",
   "execution_count": 233,
   "metadata": {},
   "outputs": [],
   "source": [
    "df_final_0 = df_final[df_final['INS_FLAG'] == 0]\n",
    "df_final_1 = df_final[df_final['INS_FLAG'] == 1]"
   ]
  },
  {
   "cell_type": "code",
   "execution_count": 234,
   "metadata": {},
   "outputs": [],
   "source": [
    "df_minority_upsampled = resample(df_final_0, \n",
    "                                 replace=True,\n",
    "                                 n_samples=len(df_final_1),\n",
    "                                 random_state=123)"
   ]
  },
  {
   "cell_type": "code",
   "execution_count": 235,
   "metadata": {},
   "outputs": [],
   "source": [
    "df_upsampled = pd.concat([df_final_1, df_minority_upsampled])\n"
   ]
  },
  {
   "cell_type": "markdown",
   "metadata": {},
   "source": [
    "Now, we have equal observation for both classes in the target variable"
   ]
  },
  {
   "cell_type": "code",
   "execution_count": 236,
   "metadata": {},
   "outputs": [
    {
     "data": {
      "text/plain": [
       "1    7478\n",
       "0    7478\n",
       "Name: INS_FLAG, dtype: int64"
      ]
     },
     "execution_count": 236,
     "metadata": {},
     "output_type": "execute_result"
    }
   ],
   "source": [
    "df_upsampled.INS_FLAG.value_counts()\n"
   ]
  },
  {
   "cell_type": "markdown",
   "metadata": {},
   "source": [
    "# Modelling"
   ]
  },
  {
   "cell_type": "markdown",
   "metadata": {},
   "source": [
    "Create the training set and test set and fix it into Logistic Regression"
   ]
  },
  {
   "cell_type": "code",
   "execution_count": 238,
   "metadata": {},
   "outputs": [],
   "source": [
    "X = df_upsampled.loc[:, df_upsampled.columns != 'INS_FLAG']\n",
    "y = df_upsampled.loc[:, df_upsampled.columns == 'INS_FLAG']\n",
    "\n",
    "X_train, X_test, y_train, y_test = train_test_split(X, y, test_size=0.3, random_state=0)\n",
    "clf = LogisticRegression().fit(X_train, y_train)"
   ]
  },
  {
   "cell_type": "markdown",
   "metadata": {},
   "source": [
    "Use the train model to get prediction on the test set"
   ]
  },
  {
   "cell_type": "code",
   "execution_count": 242,
   "metadata": {},
   "outputs": [],
   "source": [
    "pred_y = clf.predict(X_test)"
   ]
  },
  {
   "cell_type": "code",
   "execution_count": 243,
   "metadata": {},
   "outputs": [
    {
     "name": "stdout",
     "output_type": "stream",
     "text": [
      "Accuracy of logistic regression classifier on test set: 0.61\n"
     ]
    }
   ],
   "source": [
    "pred_y = clf.predict(X_test)\n",
    "\n",
    "print('Accuracy of logistic regression classifier on test set: {:.2f}'.format(clf.score(X_test, y_test)))\n"
   ]
  },
  {
   "cell_type": "markdown",
   "metadata": {},
   "source": [
    "# Evaluation"
   ]
  },
  {
   "cell_type": "markdown",
   "metadata": {},
   "source": [
    "confusion matrix"
   ]
  },
  {
   "cell_type": "code",
   "execution_count": 182,
   "metadata": {},
   "outputs": [
    {
     "name": "stdout",
     "output_type": "stream",
     "text": [
      "[[1788 1235]\n",
      " [1120 1840]]\n"
     ]
    }
   ],
   "source": [
    "from sklearn.metrics import confusion_matrix\n",
    "confusion_matrix = confusion_matrix(y_test, pred_y)\n",
    "print(confusion_matrix)"
   ]
  },
  {
   "cell_type": "markdown",
   "metadata": {},
   "source": [
    "Classification report"
   ]
  },
  {
   "cell_type": "code",
   "execution_count": 244,
   "metadata": {},
   "outputs": [
    {
     "name": "stdout",
     "output_type": "stream",
     "text": [
      "              precision    recall  f1-score   support\n",
      "\n",
      "           0       0.61      0.60      0.61      2264\n",
      "           1       0.60      0.62      0.61      2223\n",
      "\n",
      "    accuracy                           0.61      4487\n",
      "   macro avg       0.61      0.61      0.61      4487\n",
      "weighted avg       0.61      0.61      0.61      4487\n",
      "\n"
     ]
    }
   ],
   "source": [
    "from sklearn.metrics import classification_report\n",
    "print(classification_report(y_test, pred_y))"
   ]
  },
  {
   "cell_type": "markdown",
   "metadata": {},
   "source": [
    "Plotting ROC Curve"
   ]
  },
  {
   "cell_type": "code",
   "execution_count": 184,
   "metadata": {},
   "outputs": [
    {
     "data": {
      "image/png": "[encoded data removed]",
      "text/plain": [
       "<Figure size 432x288 with 1 Axes>"
      ]
     },
     "metadata": {
      "needs_background": "light"
     },
     "output_type": "display_data"
    }
   ],
   "source": [
    "logit_roc_auc = roc_auc_score(y_test, clf.predict(X_test))\n",
    "fpr, tpr, thresholds = roc_curve(y_test, clf.predict_proba(X_test)[:,1])\n",
    "plt.figure()\n",
    "plt.plot(fpr, tpr, label='Logistic Regression (area = %0.2f)' % logit_roc_auc)\n",
    "plt.plot([0, 1], [0, 1],'r--')\n",
    "plt.xlim([0.0, 1.0])\n",
    "plt.ylim([0.0, 1.05])\n",
    "plt.xlabel('False Positive Rate')\n",
    "plt.ylabel('True Positive Rate')\n",
    "plt.title('Receiver operating characteristic')\n",
    "plt.legend(loc=\"lower right\")\n",
    "plt.savefig('Log_ROC')\n",
    "plt.show()"
   ]
  }
 ],
 "metadata": {
  "kernelspec": {
   "display_name": "Python 3",
   "language": "python",
   "name": "python3"
  },
  "language_info": {
   "codemirror_mode": {
    "name": "ipython",
    "version": 3
   },
   "file_extension": ".py",
   "mimetype": "text/x-python",
   "name": "python",
   "nbconvert_exporter": "python",
   "pygments_lexer": "ipython3",
   "version": "3.7.4"
  }
 },
 "nbformat": 4,
 "nbformat_minor": 2
}
